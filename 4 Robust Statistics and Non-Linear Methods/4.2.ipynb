{
 "cells": [
  {
   "cell_type": "code",
   "execution_count": 1,
   "metadata": {},
   "outputs": [],
   "source": [
    "# Import libraries\n",
    "import numpy as np\n",
    "import pandas as pd\n",
    "from scipy import stats\n",
    "from scipy.stats import pearsonr, iqr\n",
    "from datetime import datetime\n",
    "from statsmodels.robust.scale import mad as mad_c\n",
    "import copy\n",
    "\n",
    "\n",
    "import matplotlib.pyplot as plt\n",
    "%matplotlib inline\n",
    "plt.style.use('ggplot')\n",
    "\n",
    "\n",
    "# Set path for generated figures\n",
    "fig_path = './figures_4.2/'\n",
    "\n",
    "# set the scaling factor to 1\n",
    "def mad(a):\n",
    "    return mad_c(a, c=1)"
   ]
  },
  {
   "cell_type": "code",
   "execution_count": 2,
   "metadata": {},
   "outputs": [],
   "source": [
    "# Read data\n",
    "mydateparser = lambda x: datetime.strptime(x, \"%Y-%m-%d\")\n",
    "\n",
    "AAPL = pd.read_csv(\"AAPL.csv\", index_col=0, parse_dates=True, date_parser=mydateparser)\n",
    "IBM = pd.read_csv(\"IBM.csv\", index_col=0, parse_dates=True, date_parser=mydateparser)\n",
    "JPM = pd.read_csv(\"JPM.csv\", index_col=0, parse_dates=True, date_parser=mydateparser)\n",
    "DJI = pd.read_csv(\"DJI.csv\", index_col=0, parse_dates=True, date_parser=mydateparser)\n",
    "\n",
    "stocks_data = {'APPL': AAPL, 'IBM': IBM, 'JPM': JPM, 'DJI': DJI}"
   ]
  },
  {
   "cell_type": "markdown",
   "metadata": {},
   "source": [
    "## 4.2 Robust Estimators"
   ]
  },
  {
   "cell_type": "markdown",
   "metadata": {},
   "source": [
    "This section involves the implementation, analysis and assessment of the following estimators:\n",
    "\n",
    "- Robust location estimator: median \n",
    "- Robust scale estimator: IQR (Interquartile range) and MAD (Median Absolute Deviation)"
   ]
  },
  {
   "cell_type": "markdown",
   "metadata": {},
   "source": [
    "<a id='4.2.1'></a>\n",
    "### 4.2.1 Python implementation"
   ]
  },
  {
   "cell_type": "markdown",
   "metadata": {},
   "source": [
    "We create Python functions for each of the estimator types:"
   ]
  },
  {
   "cell_type": "code",
   "execution_count": 3,
   "metadata": {},
   "outputs": [],
   "source": [
    "# The way python does the calculation:\n",
    "# yields in different results\n",
    "\n",
    "# def compute_median(a):\n",
    "#     return np.percentile(a, 50)\n",
    "    \n",
    "# def compute_iqr(a):\n",
    "#     return np.percentile(a, 75) - np.percentile(a, 25)"
   ]
  },
  {
   "cell_type": "code",
   "execution_count": 4,
   "metadata": {},
   "outputs": [],
   "source": [
    "def compute_median(a):\n",
    "    sorted_a = a.sort_values()\n",
    "    idx = len(sorted_a) // 2\n",
    "    if len(a)%2 == 1:\n",
    "        median = sorted_a.iloc[idx]\n",
    "    else:\n",
    "        median = (sorted_a.iloc[idx-1] + sorted_a.iloc[idx]) / 2\n",
    "    return float(median)\n",
    "\n",
    "\n",
    "def compute_iqr(a):\n",
    "    sorted_a = a.sort_values()\n",
    "    \n",
    "    idx = len(sorted_a) // 2\n",
    "    if len(a)%2 == 1:\n",
    "        q1 = compute_median(sorted_a.iloc[:idx])\n",
    "        q3 = compute_median(sorted_a.iloc[idx+1:])\n",
    "    else:\n",
    "        q1 = compute_median(sorted_a.iloc[:idx])\n",
    "        q3 = compute_median(sorted_a.iloc[idx:])\n",
    "    \n",
    "    return q3 - q1\n",
    "\n",
    "\n",
    "def compute_mad(a):\n",
    "    median = compute_median(a)\n",
    "    deviations = abs(a - median)\n",
    "    return compute_median(deviations)"
   ]
  },
  {
   "cell_type": "markdown",
   "metadata": {},
   "source": [
    "Detail on the implementation of each function is given below:\n",
    "\n",
    "- Median: \n",
    "The given series is first sorted in ascending order. Then, if the number of elements is odd, the middle element is returned; else the average of the middle two elements is returned.\n",
    "\n",
    "- IQR:\n",
    "The given series is first sorted in ascending order. Then the sorted series is split into two arrays from the middle. The median of both arrays are obtained, which represent the 25th and 75th percentiles, and their difference is returned. Note that the `qr()` function from `scipy.stats` uses `np.percentile()` function to calculate the values of 25th and 75th percentiles, which results in slightly different values due to a difference in the calculation method.\n",
    "\n",
    "- MAD:\n",
    "The median of the given series is computed using the {\\tt compute\\_median()} function. Then, a new series is obtained by calculating the absolute difference between the median and each element of the series. The median of the new series is returned.\n"
   ]
  },
  {
   "cell_type": "markdown",
   "metadata": {},
   "source": [
    "<a id='4.2.2'></a>\n",
    "### 4.2.2 Computational efficiency"
   ]
  },
  {
   "cell_type": "markdown",
   "metadata": {},
   "source": [
    "Computational efficiencies of the different estimators are discussed below:\n",
    "\n",
    "- Median: Sorting the series takes $\\mathcal{O}(n\\log(n))$ operations, and then finding the middle value takes $\\mathcal{O}(1)$ operations. The overall complexity of this estimator is then $\\mathcal{O}(n\\log(n))$.\n",
    "\n",
    "- IQR: Sorting the series takes $\\mathcal{O}(n\\log(n))$ operations. After splitting the series, finding the medians of the resulting two series each takes $\\mathcal{O}(n\\log(n))$ (it is actually less than that since the given series are both already sorted) operations. The rest of the operations are of $\\mathcal{O}(1)$. The overall complexity of this estimator is then $\\mathcal{O}(n\\log(n))$.\n",
    "\n",
    "- MAD: Computing the median of the series takes $\\mathcal{O}(n\\log(n))$ operations. Then obtaining the new series with the absolute deviations from the median takes $\\mathcal{O}(n))$ operations. Computing the median of the resulting series takes another $\\mathcal{O}(n\\log(n))$ operations. The overall complexity of this estimator is then also $\\mathcal{O}(n\\log(n))$.\n",
    "\n"
   ]
  },
  {
   "cell_type": "markdown",
   "metadata": {},
   "source": [
    "Note that the computational complexities of computing the mean and the standard deviation are of $\\mathcal{O}(n)$, which is less than the complexities of the estimators discussed in this section."
   ]
  },
  {
   "cell_type": "markdown",
   "metadata": {},
   "source": [
    "<a id='4.2.3'></a>\n",
    "### 4.2.3 Breakdown Points"
   ]
  },
  {
   "cell_type": "markdown",
   "metadata": {},
   "source": [
    "A robust estimator should not be affected too much by somewhat larger deviations from the model. One of the properties that defines the robustness of an estimator is its *breakdown point*, which is defined as the maximum allowed fraction of outliers that an estimator can tolerate and has a value between 0 and 0.5. In other words, the breakdown point is the fraction of the data that can be contaminated without making the estimator's estimation \"very bad\". The breakdown points of different estimators are given in the table below."
   ]
  },
  {
   "cell_type": "code",
   "execution_count": 5,
   "metadata": {},
   "outputs": [
    {
     "data": {
      "text/html": [
       "<div>\n",
       "<style scoped>\n",
       "    .dataframe tbody tr th:only-of-type {\n",
       "        vertical-align: middle;\n",
       "    }\n",
       "\n",
       "    .dataframe tbody tr th {\n",
       "        vertical-align: top;\n",
       "    }\n",
       "\n",
       "    .dataframe thead th {\n",
       "        text-align: right;\n",
       "    }\n",
       "</style>\n",
       "<table border=\"1\" class=\"dataframe\">\n",
       "  <thead>\n",
       "    <tr style=\"text-align: right;\">\n",
       "      <th></th>\n",
       "      <th>mean</th>\n",
       "      <th>std. dev.</th>\n",
       "      <th>median</th>\n",
       "      <th>MAD</th>\n",
       "      <th>IQR</th>\n",
       "    </tr>\n",
       "  </thead>\n",
       "  <tbody>\n",
       "    <tr>\n",
       "      <th>Breakdown points</th>\n",
       "      <td>0.0</td>\n",
       "      <td>0.0</td>\n",
       "      <td>0.5</td>\n",
       "      <td>0.5</td>\n",
       "      <td>0.25</td>\n",
       "    </tr>\n",
       "  </tbody>\n",
       "</table>\n",
       "</div>"
      ],
      "text/plain": [
       "                  mean  std. dev.  median  MAD   IQR\n",
       "Breakdown points   0.0        0.0     0.5  0.5  0.25"
      ]
     },
     "execution_count": 5,
     "metadata": {},
     "output_type": "execute_result"
    }
   ],
   "source": [
    "df = {'mean': 0., 'std. dev.': 0., 'median': 0.5, 'MAD': 0.5, 'IQR':0.25}\n",
    "pd.DataFrame(df, index=[\"Breakdown points\"])"
   ]
  },
  {
   "cell_type": "markdown",
   "metadata": {},
   "source": [
    "The median has a breakdown point of 0.5, so it is very robust against outliers. Since the median is the middle value in the data set, even if the half of the dataset was contaminated with extremely large (or low) values, it would still estimate a valid point within the dataset. The sample mean as an estimator of the average, however, is largely susceptible to outliers, and even a single extreme data value would cause an irrelevant estimation.\n",
    "\n",
    "The median absolute deviation also has a breakdown point of 0.5 from a similar argument for the median. If the half of the dataset had extremely large values, the median would still have a viable value, half of the deviations from the median would have viable values, and the median of the deviations would again have a viable value in representing the dataset. Standard deviation as an estimator of the deviation, on the other hand, would break down in the presence of a single extreme value.\n",
    "\n",
    "Finally, the interquartile range has a breakdown point of 0.25. Because it estimates the data points at 25th and 75th percentiles, until a quarter of the data points are contaminated with extremely large (or low) values, it gives a robust estimation; however, after that point, it will break down."
   ]
  },
  {
   "cell_type": "code",
   "execution_count": null,
   "metadata": {},
   "outputs": [],
   "source": []
  }
 ],
 "metadata": {
  "kernelspec": {
   "display_name": "Python 3",
   "language": "python",
   "name": "python3"
  },
  "language_info": {
   "codemirror_mode": {
    "name": "ipython",
    "version": 3
   },
   "file_extension": ".py",
   "mimetype": "text/x-python",
   "name": "python",
   "nbconvert_exporter": "python",
   "pygments_lexer": "ipython3",
   "version": "3.8.3"
  }
 },
 "nbformat": 4,
 "nbformat_minor": 4
}
